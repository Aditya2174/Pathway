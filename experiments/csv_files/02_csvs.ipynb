{
 "cells": [
  {
   "cell_type": "code",
   "execution_count": 2,
   "metadata": {},
   "outputs": [],
   "source": [
    "import pandas as pd\n",
    "import os\n",
    "import yaml"
   ]
  },
  {
   "cell_type": "code",
   "execution_count": 3,
   "metadata": {},
   "outputs": [
    {
     "data": {
      "text/plain": [
       "['data/A.csv',\n",
       " 'data/AACG.csv',\n",
       " 'data/ABBV.csv',\n",
       " 'data/ABC.csv',\n",
       " 'data/country_wise_latest.csv',\n",
       " 'data/full_grouped.csv',\n",
       " 'data/netflix_titles.csv',\n",
       " 'data/Titanic-Dataset.csv']"
      ]
     },
     "execution_count": 3,
     "metadata": {},
     "output_type": "execute_result"
    }
   ],
   "source": [
    "files = os.listdir('data')\n",
    "files_paths = ['data/' + file for file in files]\n",
    "files_paths"
   ]
  },
  {
   "cell_type": "code",
   "execution_count": 4,
   "metadata": {},
   "outputs": [],
   "source": [
    "df_li = [pd.read_csv(file) for file in files_paths]"
   ]
  },
  {
   "cell_type": "code",
   "execution_count": 5,
   "metadata": {},
   "outputs": [
    {
     "data": {
      "text/html": [
       "<div>\n",
       "<style scoped>\n",
       "    .dataframe tbody tr th:only-of-type {\n",
       "        vertical-align: middle;\n",
       "    }\n",
       "\n",
       "    .dataframe tbody tr th {\n",
       "        vertical-align: top;\n",
       "    }\n",
       "\n",
       "    .dataframe thead th {\n",
       "        text-align: right;\n",
       "    }\n",
       "</style>\n",
       "<table border=\"1\" class=\"dataframe\">\n",
       "  <thead>\n",
       "    <tr style=\"text-align: right;\">\n",
       "      <th></th>\n",
       "      <th>Open</th>\n",
       "      <th>High</th>\n",
       "      <th>Low</th>\n",
       "      <th>Close</th>\n",
       "      <th>Adj Close</th>\n",
       "      <th>Volume</th>\n",
       "    </tr>\n",
       "  </thead>\n",
       "  <tbody>\n",
       "    <tr>\n",
       "      <th>count</th>\n",
       "      <td>5124.000000</td>\n",
       "      <td>5124.000000</td>\n",
       "      <td>5124.000000</td>\n",
       "      <td>5124.000000</td>\n",
       "      <td>5124.000000</td>\n",
       "      <td>5.124000e+03</td>\n",
       "    </tr>\n",
       "    <tr>\n",
       "      <th>mean</th>\n",
       "      <td>34.090255</td>\n",
       "      <td>34.560553</td>\n",
       "      <td>33.629467</td>\n",
       "      <td>34.106245</td>\n",
       "      <td>31.778674</td>\n",
       "      <td>3.693250e+06</td>\n",
       "    </tr>\n",
       "    <tr>\n",
       "      <th>std</th>\n",
       "      <td>18.608831</td>\n",
       "      <td>18.834528</td>\n",
       "      <td>18.381718</td>\n",
       "      <td>18.611595</td>\n",
       "      <td>18.730529</td>\n",
       "      <td>2.481855e+06</td>\n",
       "    </tr>\n",
       "    <tr>\n",
       "      <th>min</th>\n",
       "      <td>7.653791</td>\n",
       "      <td>7.961373</td>\n",
       "      <td>7.510730</td>\n",
       "      <td>7.761087</td>\n",
       "      <td>6.674886</td>\n",
       "      <td>2.719000e+05</td>\n",
       "    </tr>\n",
       "    <tr>\n",
       "      <th>25%</th>\n",
       "      <td>21.101574</td>\n",
       "      <td>21.452074</td>\n",
       "      <td>20.785050</td>\n",
       "      <td>21.130186</td>\n",
       "      <td>18.790381</td>\n",
       "      <td>2.206475e+06</td>\n",
       "    </tr>\n",
       "    <tr>\n",
       "      <th>50%</th>\n",
       "      <td>27.328326</td>\n",
       "      <td>27.703863</td>\n",
       "      <td>27.010015</td>\n",
       "      <td>27.396280</td>\n",
       "      <td>24.714866</td>\n",
       "      <td>3.174050e+06</td>\n",
       "    </tr>\n",
       "    <tr>\n",
       "      <th>75%</th>\n",
       "      <td>41.500000</td>\n",
       "      <td>41.860001</td>\n",
       "      <td>41.130001</td>\n",
       "      <td>41.525204</td>\n",
       "      <td>39.203083</td>\n",
       "      <td>4.508075e+06</td>\n",
       "    </tr>\n",
       "    <tr>\n",
       "      <th>max</th>\n",
       "      <td>111.587982</td>\n",
       "      <td>115.879829</td>\n",
       "      <td>103.719597</td>\n",
       "      <td>113.733902</td>\n",
       "      <td>97.816307</td>\n",
       "      <td>6.254630e+07</td>\n",
       "    </tr>\n",
       "  </tbody>\n",
       "</table>\n",
       "</div>"
      ],
      "text/plain": [
       "              Open         High          Low        Close    Adj Close  \\\n",
       "count  5124.000000  5124.000000  5124.000000  5124.000000  5124.000000   \n",
       "mean     34.090255    34.560553    33.629467    34.106245    31.778674   \n",
       "std      18.608831    18.834528    18.381718    18.611595    18.730529   \n",
       "min       7.653791     7.961373     7.510730     7.761087     6.674886   \n",
       "25%      21.101574    21.452074    20.785050    21.130186    18.790381   \n",
       "50%      27.328326    27.703863    27.010015    27.396280    24.714866   \n",
       "75%      41.500000    41.860001    41.130001    41.525204    39.203083   \n",
       "max     111.587982   115.879829   103.719597   113.733902    97.816307   \n",
       "\n",
       "             Volume  \n",
       "count  5.124000e+03  \n",
       "mean   3.693250e+06  \n",
       "std    2.481855e+06  \n",
       "min    2.719000e+05  \n",
       "25%    2.206475e+06  \n",
       "50%    3.174050e+06  \n",
       "75%    4.508075e+06  \n",
       "max    6.254630e+07  "
      ]
     },
     "execution_count": 5,
     "metadata": {},
     "output_type": "execute_result"
    }
   ],
   "source": [
    "df_li[0].describe()"
   ]
  },
  {
   "cell_type": "code",
   "execution_count": 12,
   "metadata": {},
   "outputs": [
    {
     "name": "stdout",
     "output_type": "stream",
     "text": [
      "Metadata written to metadata/metadata_A.yaml\n",
      "Metadata written to metadata/metadata_AACG.yaml\n",
      "Metadata written to metadata/metadata_ABBV.yaml\n",
      "Metadata written to metadata/metadata_ABC.yaml\n",
      "Metadata written to metadata/metadata_country_wise_latest.yaml\n",
      "Metadata written to metadata/metadata_full_grouped.yaml\n",
      "Metadata written to metadata/metadata_netflix_titles.yaml\n",
      "Metadata written to metadata/metadata_Titanic-Dataset.yaml\n"
     ]
    },
    {
     "name": "stderr",
     "output_type": "stream",
     "text": [
      "/home/aaryan/penvs/pathway_dev/lib/python3.10/site-packages/pandas/core/nanops.py:1016: RuntimeWarning: invalid value encountered in subtract\n",
      "  sqr = _ensure_numeric((avg - values) ** 2)\n"
     ]
    }
   ],
   "source": [
    "# Prepare the metadata\n",
    "for idx in range(len(df_li)):\n",
    "    df = df_li[idx]\n",
    "    file_name = files[idx]\n",
    "    metadata = {\n",
    "        'File Name': file_name,\n",
    "        'Columns': {}\n",
    "    }\n",
    "\n",
    "    # Get column descriptions without percentiles\n",
    "    for col in df.columns:\n",
    "        desc = df[col].describe(percentiles=[])\n",
    "        desc_dict = desc.to_dict()\n",
    "        if '50%' in desc_dict:\n",
    "            del desc_dict['50%']\n",
    "        metadata['Columns'][col] = desc_dict\n",
    "\n",
    "    # Get the first two rows of data\n",
    "    metadata['Data (first two rows)'] = df.head(2).to_dict(orient='records')\n",
    "\n",
    "    out_file_name = 'metadata/metadata_' + files[idx].split('.')[0] + '.yaml'\n",
    "\n",
    "    file_comment = f\"# This is the metadata of a csv file which contains the file name: '{file_name}', description of these columns generated using pandas: {list(df.columns)} and the first two rows of data.\\n\"\n",
    "\n",
    "    # Write the metadata to a YAML file with a comment\n",
    "    with open(out_file_name, 'w') as file:\n",
    "        file.write(file_comment)\n",
    "        yaml.dump(metadata, file, default_flow_style=False, sort_keys=False)\n",
    "\n",
    "    print(f\"Metadata written to {out_file_name}\")"
   ]
  },
  {
   "cell_type": "code",
   "execution_count": null,
   "metadata": {},
   "outputs": [],
   "source": []
  }
 ],
 "metadata": {
  "kernelspec": {
   "display_name": "pathway_dev",
   "language": "python",
   "name": "python3"
  },
  "language_info": {
   "codemirror_mode": {
    "name": "ipython",
    "version": 3
   },
   "file_extension": ".py",
   "mimetype": "text/x-python",
   "name": "python",
   "nbconvert_exporter": "python",
   "pygments_lexer": "ipython3",
   "version": "3.10.12"
  }
 },
 "nbformat": 4,
 "nbformat_minor": 2
}
